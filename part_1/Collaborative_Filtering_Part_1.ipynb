{
 "cells": [
  {
   "cell_type": "markdown",
   "metadata": {},
   "source": [
    "# Using Collaborative Filtering to Recommend Alternative Movies\n",
    "\n",
    "## Case Study\n",
    "The customer service team at Netflix has started to receive user complaints about Netflix having a limited catalog of movies. In response, the product team has decided that they want to suggest similar movies as a consolation to users that can't find their desired movie. The product team has asked their top two data scientist, Debbie and Juan Carlos, to create an algorithm that allows a user to receive suggested movies when their searched for movie is not available.\n",
    "\n",
    "\n",
    "## Stakeholders\n",
    "1. Product Team: This team has requested the ability to provide a user with suggested movies when the user is not able to find the specific movie they want to watch.\n",
    "2. Customer Service Team: This team expects that the new feature will reduce the number of user complains about the movies not being available on their library.\n",
    "\n",
    "## Success Metrics\n",
    "* The number of user complaints related to a movie not being available should show statistically significant decreases after the feature is implemented.\n",
    "* The number of people that watch a recommended movie should increase while the number of user complaints decreases."
   ]
  },
  {
   "cell_type": "code",
   "execution_count": 1,
   "metadata": {
    "collapsed": true
   },
   "outputs": [],
   "source": [
    "# All the following libraries mush be imported\n",
    "import numpy as np\n",
    "from numpy.linalg import inv\n",
    "import pandas as pd\n",
    "import matplotlib.pyplot as plt\n",
    "import seaborn as sns\n",
    "import os\n",
    "from sklearn.model_selection import train_test_split\n",
    "import itertools\n",
    "from timeit import default_timer as timer\n",
    "\n",
    "from surprise import SVD\n",
    "from surprise import KNNWithMeans\n",
    "from surprise import Reader, Dataset\n",
    "from surprise import evaluate, print_perf, GridSearch\n",
    "from surprise import accuracy\n"
   ]
  },
  {
   "cell_type": "code",
   "execution_count": 7,
   "metadata": {},
   "outputs": [
    {
     "name": "stdout",
     "output_type": "stream",
     "text": [
      "Congratulations! You are in the correct working directory.\n"
     ]
    }
   ],
   "source": [
    "if os.getcwd().split('/')[-1] == 'part_1':\n",
    "    print('Congratulations! You are in the correct working directory.')\n",
    "else:\n",
    "    print('Please reopen the notebook from the \\'part_1\\' directory \\\n",
    "    using the command listed in the README')"
   ]
  },
  {
   "cell_type": "markdown",
   "metadata": {},
   "source": [
    "First, we will build a neighborhood user-based model. Put simply, this means that our recommendations for a given user \"Bob\" will be based on the ratings of people who have similar taste in movies as Bob. This set of people are Bob's neighbors, and we will use the mean neighbor ratings for a given movie X to estimate what rating Bob will give movie X. If Bob's predicted rating is high then this is a movie we will recommend to Bob because we think he would like it."
   ]
  },
  {
   "cell_type": "markdown",
   "metadata": {},
   "source": [
    "Let's import our data. We are using movielens data to prototype our model (https://grouplens.org/datasets/movielens/100k/). Before we do any model building, we need to think carefully about how we split the data. We will set aside a portion of the data (say, 20%) to be our \"test\" data. This test data will be untouched while we build our model, and we'll only use it at the end when we want to see how well our model did at predicting on fresh data. As for the other 80% of the dataset, we can split this further into \"train\" and \"tune\" data. We will train our model on the training dataset, check accuracy on the tuning dataset, then we can iteratively improve the model accuracy through hyper parameter optimization."
   ]
  },
  {
   "cell_type": "code",
   "execution_count": 8,
   "metadata": {
    "collapsed": true
   },
   "outputs": [],
   "source": [
    "files_dir = os.path.expanduser('./data/')\n",
    "reader = Reader(line_format='user item rating', sep=',')\n",
    "\n",
    "train_file = files_dir + 'ratings_train.csv'\n",
    "test_file = files_dir + 'ratings_test.csv'\n",
    "\n",
    "folds_files = [(train_file, test_file)]\n",
    "data = Dataset.load_from_folds(folds_files, reader=reader)"
   ]
  },
  {
   "cell_type": "markdown",
   "metadata": {},
   "source": [
    "We have selected KNN with means for our first algorithm. This is a k nearest neighbors user-based model that takes into account each user's mean rating. So overly pessimistic or optimistic people will not bias the recommendations."
   ]
  },
  {
   "cell_type": "markdown",
   "metadata": {},
   "source": [
    "<img src=\"img/kNN_mean_formula.png\", width = 400, height=400>"
   ]
  },
  {
   "cell_type": "code",
   "execution_count": 9,
   "metadata": {
    "collapsed": true
   },
   "outputs": [],
   "source": [
    "sim_options = {'name': 'pearson',\n",
    "               'user_based': True  # compute  similarities between users\n",
    "               }\n",
    "\n",
    "algo = KNNWithMeans(sim_options=sim_options)"
   ]
  },
  {
   "cell_type": "code",
   "execution_count": 10,
   "metadata": {},
   "outputs": [
    {
     "name": "stdout",
     "output_type": "stream",
     "text": [
      "Computing the pearson similarity matrix...\n",
      "Done computing similarity matrix.\n",
      "RMSE: 0.9145\n"
     ]
    }
   ],
   "source": [
    "for trainset, testset in data.folds():\n",
    "\n",
    "    # train and test algorithm.\n",
    "    algo.train(trainset)\n",
    "    predictions = algo.test(testset)\n",
    "    accuracy.rmse(predictions, verbose=True)  "
   ]
  },
  {
   "cell_type": "markdown",
   "metadata": {},
   "source": [
    "We are using RMSE, or root mean squared error to measure accuracy. RMSE penalizes outliers, which makes sense for our use case, which is to present alternative movies when a movie is unavailable in our catalog. Optimizing for RMSE would prevent our model from making outlier suggestions (suggesting to a user a movie that they would've rated a 1). Since the user might be upset already that their desired movie isn't available, we don't want to anger them further by making a wildly off-base recommendation."
   ]
  },
  {
   "cell_type": "markdown",
   "metadata": {},
   "source": [
    "We should also consider coverage, or in our case, the percentage of users who receive an adequate number of recommendations. If we decide to show each user their top 10 recommended movies, what percentage of users will actually receive 10 recommendations?"
   ]
  },
  {
   "cell_type": "code",
   "execution_count": 12,
   "metadata": {
    "collapsed": true
   },
   "outputs": [],
   "source": [
    "from collections import defaultdict\n",
    "\n",
    "def get_top_n(predictions, n=10):\n",
    "\n",
    "    # First map the predictions to each user.\n",
    "    top_n = defaultdict(list)\n",
    "    for uid, iid, true_r, est, _ in predictions:\n",
    "        top_n[uid].append((iid, est))\n",
    "\n",
    "    # Then sort the predictions for each user and retrieve the k highest ones.\n",
    "    for uid, user_ratings in top_n.items():\n",
    "        user_ratings.sort(key=lambda x: x[1], reverse=True)\n",
    "        top_n[uid] = user_ratings[:n]\n",
    "\n",
    "    return top_n\n",
    "\n",
    "top_n = get_top_n(predictions, n=10)\n",
    "\n",
    "users = []\n",
    "num_recs = []\n",
    "\n",
    "for uid, user_ratings in top_n.items():\n",
    "    users.append(uid)\n",
    "    num_recs.append(len(user_ratings))\n"
   ]
  },
  {
   "cell_type": "code",
   "execution_count": 13,
   "metadata": {},
   "outputs": [
    {
     "data": {
      "text/plain": [
       "yes    234\n",
       "no     436\n",
       "dtype: int64"
      ]
     },
     "execution_count": 13,
     "metadata": {},
     "output_type": "execute_result"
    }
   ],
   "source": [
    "coverage = pd.DataFrame(list(zip(users, num_recs)),\n",
    "              columns=['uid','num_recs'])\n",
    "coverage['under10'] = np.where(coverage['num_recs']<10, 'yes', 'no')\n",
    "pd.value_counts(coverage['under10'].values, sort=False)"
   ]
  },
  {
   "cell_type": "markdown",
   "metadata": {},
   "source": [
    "65% of our users will receive more than 10 recommended movies, so this is our user coverage. Obviously this number will improve if we decide to show fewer than 10 recommended movies. This coverage percentage doesn't seem very high, I think we can do better on this."
   ]
  },
  {
   "cell_type": "markdown",
   "metadata": {},
   "source": [
    "## Hyper parameter optimization"
   ]
  },
  {
   "cell_type": "markdown",
   "metadata": {},
   "source": [
    "Now that we've established a baseline, let's do some hyper parameter optimization to make our model even better. We will split our training data into 3 folds. For KNN with means, the main parameters we can tweak are k, and min-k. k is the maximum number of neighbors to take into account. min-k is the minimum number of neighbors needed to make a prediction. In our earlier model, the defaults were set to k=40, min_k = 1."
   ]
  },
  {
   "cell_type": "code",
   "execution_count": 14,
   "metadata": {},
   "outputs": [
    {
     "name": "stdout",
     "output_type": "stream",
     "text": [
      "[{'k': 30, 'min_k': 1}, {'k': 30, 'min_k': 2}, {'k': 30, 'min_k': 3}, {'k': 30, 'min_k': 4}, {'k': 30, 'min_k': 5}, {'k': 40, 'min_k': 1}, {'k': 40, 'min_k': 2}, {'k': 40, 'min_k': 3}, {'k': 40, 'min_k': 4}, {'k': 40, 'min_k': 5}, {'k': 50, 'min_k': 1}, {'k': 50, 'min_k': 2}, {'k': 50, 'min_k': 3}, {'k': 50, 'min_k': 4}, {'k': 50, 'min_k': 5}, {'k': 60, 'min_k': 1}, {'k': 60, 'min_k': 2}, {'k': 60, 'min_k': 3}, {'k': 60, 'min_k': 4}, {'k': 60, 'min_k': 5}, {'k': 70, 'min_k': 1}, {'k': 70, 'min_k': 2}, {'k': 70, 'min_k': 3}, {'k': 70, 'min_k': 4}, {'k': 70, 'min_k': 5}]\n",
      "------------\n",
      "Parameters combination 1 of 25\n",
      "params:  {'k': 30, 'min_k': 1}\n",
      "Computing the msd similarity matrix...\n",
      "Done computing similarity matrix.\n",
      "Computing the msd similarity matrix...\n",
      "Done computing similarity matrix.\n",
      "Computing the msd similarity matrix...\n",
      "Done computing similarity matrix.\n",
      "------------\n",
      "Mean RMSE: 0.9415\n",
      "------------\n",
      "------------\n",
      "Parameters combination 2 of 25\n",
      "params:  {'k': 30, 'min_k': 2}\n",
      "Computing the msd similarity matrix...\n",
      "Done computing similarity matrix.\n",
      "Computing the msd similarity matrix...\n",
      "Done computing similarity matrix.\n",
      "Computing the msd similarity matrix...\n",
      "Done computing similarity matrix.\n",
      "------------\n",
      "Mean RMSE: 0.9325\n",
      "------------\n",
      "------------\n",
      "Parameters combination 3 of 25\n",
      "params:  {'k': 30, 'min_k': 3}\n",
      "Computing the msd similarity matrix...\n",
      "Done computing similarity matrix.\n",
      "Computing the msd similarity matrix...\n",
      "Done computing similarity matrix.\n",
      "Computing the msd similarity matrix...\n",
      "Done computing similarity matrix.\n",
      "------------\n",
      "Mean RMSE: 0.9309\n",
      "------------\n",
      "------------\n",
      "Parameters combination 4 of 25\n",
      "params:  {'k': 30, 'min_k': 4}\n",
      "Computing the msd similarity matrix...\n",
      "Done computing similarity matrix.\n",
      "Computing the msd similarity matrix...\n",
      "Done computing similarity matrix.\n",
      "Computing the msd similarity matrix...\n",
      "Done computing similarity matrix.\n",
      "------------\n",
      "Mean RMSE: 0.9298\n",
      "------------\n",
      "------------\n",
      "Parameters combination 5 of 25\n",
      "params:  {'k': 30, 'min_k': 5}\n",
      "Computing the msd similarity matrix...\n",
      "Done computing similarity matrix.\n",
      "Computing the msd similarity matrix...\n",
      "Done computing similarity matrix.\n",
      "Computing the msd similarity matrix...\n",
      "Done computing similarity matrix.\n",
      "------------\n",
      "Mean RMSE: 0.9309\n",
      "------------\n",
      "------------\n",
      "Parameters combination 6 of 25\n",
      "params:  {'k': 40, 'min_k': 1}\n",
      "Computing the msd similarity matrix...\n",
      "Done computing similarity matrix.\n",
      "Computing the msd similarity matrix...\n",
      "Done computing similarity matrix.\n",
      "Computing the msd similarity matrix...\n",
      "Done computing similarity matrix.\n",
      "------------\n",
      "Mean RMSE: 0.9411\n",
      "------------\n",
      "------------\n",
      "Parameters combination 7 of 25\n",
      "params:  {'k': 40, 'min_k': 2}\n",
      "Computing the msd similarity matrix...\n",
      "Done computing similarity matrix.\n",
      "Computing the msd similarity matrix...\n",
      "Done computing similarity matrix.\n",
      "Computing the msd similarity matrix...\n",
      "Done computing similarity matrix.\n",
      "------------\n",
      "Mean RMSE: 0.9321\n",
      "------------\n",
      "------------\n",
      "Parameters combination 8 of 25\n",
      "params:  {'k': 40, 'min_k': 3}\n",
      "Computing the msd similarity matrix...\n",
      "Done computing similarity matrix.\n",
      "Computing the msd similarity matrix...\n",
      "Done computing similarity matrix.\n",
      "Computing the msd similarity matrix...\n",
      "Done computing similarity matrix.\n",
      "------------\n",
      "Mean RMSE: 0.9305\n",
      "------------\n",
      "------------\n",
      "Parameters combination 9 of 25\n",
      "params:  {'k': 40, 'min_k': 4}\n",
      "Computing the msd similarity matrix...\n",
      "Done computing similarity matrix.\n",
      "Computing the msd similarity matrix...\n",
      "Done computing similarity matrix.\n",
      "Computing the msd similarity matrix...\n",
      "Done computing similarity matrix.\n",
      "------------\n",
      "Mean RMSE: 0.9293\n",
      "------------\n",
      "------------\n",
      "Parameters combination 10 of 25\n",
      "params:  {'k': 40, 'min_k': 5}\n",
      "Computing the msd similarity matrix...\n",
      "Done computing similarity matrix.\n",
      "Computing the msd similarity matrix...\n",
      "Done computing similarity matrix.\n",
      "Computing the msd similarity matrix...\n",
      "Done computing similarity matrix.\n",
      "------------\n",
      "Mean RMSE: 0.9305\n",
      "------------\n",
      "------------\n",
      "Parameters combination 11 of 25\n",
      "params:  {'k': 50, 'min_k': 1}\n",
      "Computing the msd similarity matrix...\n",
      "Done computing similarity matrix.\n",
      "Computing the msd similarity matrix...\n",
      "Done computing similarity matrix.\n",
      "Computing the msd similarity matrix...\n",
      "Done computing similarity matrix.\n",
      "------------\n",
      "Mean RMSE: 0.9411\n",
      "------------\n",
      "------------\n",
      "Parameters combination 12 of 25\n",
      "params:  {'k': 50, 'min_k': 2}\n",
      "Computing the msd similarity matrix...\n",
      "Done computing similarity matrix.\n",
      "Computing the msd similarity matrix...\n",
      "Done computing similarity matrix.\n",
      "Computing the msd similarity matrix...\n",
      "Done computing similarity matrix.\n",
      "------------\n",
      "Mean RMSE: 0.9321\n",
      "------------\n",
      "------------\n",
      "Parameters combination 13 of 25\n",
      "params:  {'k': 50, 'min_k': 3}\n",
      "Computing the msd similarity matrix...\n",
      "Done computing similarity matrix.\n",
      "Computing the msd similarity matrix...\n",
      "Done computing similarity matrix.\n",
      "Computing the msd similarity matrix...\n",
      "Done computing similarity matrix.\n",
      "------------\n",
      "Mean RMSE: 0.9305\n",
      "------------\n",
      "------------\n",
      "Parameters combination 14 of 25\n",
      "params:  {'k': 50, 'min_k': 4}\n",
      "Computing the msd similarity matrix...\n",
      "Done computing similarity matrix.\n",
      "Computing the msd similarity matrix...\n",
      "Done computing similarity matrix.\n",
      "Computing the msd similarity matrix...\n",
      "Done computing similarity matrix.\n",
      "------------\n",
      "Mean RMSE: 0.9293\n",
      "------------\n",
      "------------\n",
      "Parameters combination 15 of 25\n",
      "params:  {'k': 50, 'min_k': 5}\n",
      "Computing the msd similarity matrix...\n",
      "Done computing similarity matrix.\n",
      "Computing the msd similarity matrix...\n",
      "Done computing similarity matrix.\n",
      "Computing the msd similarity matrix...\n",
      "Done computing similarity matrix.\n",
      "------------\n",
      "Mean RMSE: 0.9305\n",
      "------------\n",
      "------------\n",
      "Parameters combination 16 of 25\n",
      "params:  {'k': 60, 'min_k': 1}\n",
      "Computing the msd similarity matrix...\n",
      "Done computing similarity matrix.\n",
      "Computing the msd similarity matrix...\n",
      "Done computing similarity matrix.\n",
      "Computing the msd similarity matrix...\n",
      "Done computing similarity matrix.\n",
      "------------\n",
      "Mean RMSE: 0.9412\n",
      "------------\n",
      "------------\n",
      "Parameters combination 17 of 25\n",
      "params:  {'k': 60, 'min_k': 2}\n",
      "Computing the msd similarity matrix...\n",
      "Done computing similarity matrix.\n",
      "Computing the msd similarity matrix...\n",
      "Done computing similarity matrix.\n",
      "Computing the msd similarity matrix...\n",
      "Done computing similarity matrix.\n",
      "------------\n",
      "Mean RMSE: 0.9321\n",
      "------------\n",
      "------------\n",
      "Parameters combination 18 of 25\n",
      "params:  {'k': 60, 'min_k': 3}\n",
      "Computing the msd similarity matrix...\n",
      "Done computing similarity matrix.\n",
      "Computing the msd similarity matrix...\n",
      "Done computing similarity matrix.\n",
      "Computing the msd similarity matrix...\n",
      "Done computing similarity matrix.\n",
      "------------\n",
      "Mean RMSE: 0.9306\n",
      "------------\n",
      "------------\n",
      "Parameters combination 19 of 25\n",
      "params:  {'k': 60, 'min_k': 4}\n",
      "Computing the msd similarity matrix...\n",
      "Done computing similarity matrix.\n",
      "Computing the msd similarity matrix...\n",
      "Done computing similarity matrix.\n",
      "Computing the msd similarity matrix...\n",
      "Done computing similarity matrix.\n",
      "------------\n",
      "Mean RMSE: 0.9294\n",
      "------------\n",
      "------------\n",
      "Parameters combination 20 of 25\n",
      "params:  {'k': 60, 'min_k': 5}\n",
      "Computing the msd similarity matrix...\n",
      "Done computing similarity matrix.\n",
      "Computing the msd similarity matrix...\n",
      "Done computing similarity matrix.\n",
      "Computing the msd similarity matrix...\n",
      "Done computing similarity matrix.\n",
      "------------\n",
      "Mean RMSE: 0.9306\n",
      "------------\n",
      "------------\n",
      "Parameters combination 21 of 25\n",
      "params:  {'k': 70, 'min_k': 1}\n",
      "Computing the msd similarity matrix...\n",
      "Done computing similarity matrix.\n",
      "Computing the msd similarity matrix...\n",
      "Done computing similarity matrix.\n",
      "Computing the msd similarity matrix...\n",
      "Done computing similarity matrix.\n",
      "------------\n",
      "Mean RMSE: 0.9412\n",
      "------------\n",
      "------------\n",
      "Parameters combination 22 of 25\n",
      "params:  {'k': 70, 'min_k': 2}\n",
      "Computing the msd similarity matrix...\n",
      "Done computing similarity matrix.\n",
      "Computing the msd similarity matrix...\n",
      "Done computing similarity matrix.\n",
      "Computing the msd similarity matrix...\n",
      "Done computing similarity matrix.\n",
      "------------\n",
      "Mean RMSE: 0.9322\n",
      "------------\n",
      "------------\n",
      "Parameters combination 23 of 25\n",
      "params:  {'k': 70, 'min_k': 3}\n",
      "Computing the msd similarity matrix...\n",
      "Done computing similarity matrix.\n",
      "Computing the msd similarity matrix...\n"
     ]
    },
    {
     "name": "stdout",
     "output_type": "stream",
     "text": [
      "Done computing similarity matrix.\n",
      "Computing the msd similarity matrix...\n",
      "Done computing similarity matrix.\n",
      "------------\n",
      "Mean RMSE: 0.9306\n",
      "------------\n",
      "------------\n",
      "Parameters combination 24 of 25\n",
      "params:  {'k': 70, 'min_k': 4}\n",
      "Computing the msd similarity matrix...\n",
      "Done computing similarity matrix.\n",
      "Computing the msd similarity matrix...\n",
      "Done computing similarity matrix.\n",
      "Computing the msd similarity matrix...\n",
      "Done computing similarity matrix.\n",
      "------------\n",
      "Mean RMSE: 0.9295\n",
      "------------\n",
      "------------\n",
      "Parameters combination 25 of 25\n",
      "params:  {'k': 70, 'min_k': 5}\n",
      "Computing the msd similarity matrix...\n",
      "Done computing similarity matrix.\n",
      "Computing the msd similarity matrix...\n",
      "Done computing similarity matrix.\n",
      "Computing the msd similarity matrix...\n",
      "Done computing similarity matrix.\n",
      "------------\n",
      "Mean RMSE: 0.9306\n",
      "------------\n"
     ]
    }
   ],
   "source": [
    "train_data = Dataset.load_from_file('./data/ratings_train.csv', reader=reader)\n",
    "\n",
    "#split into folds\n",
    "train_data.split(n_folds=3)\n",
    "\n",
    "#generating K's to iterate through, starting at 30 and ending at 100 in interval of 10.\n",
    "klist = []\n",
    "for i in range(30,80,10):\n",
    "    klist.append(i)\n",
    "    \n",
    "param_grid = {'k': klist,\n",
    "              'min_k': [1,2,3,4,5]}\n",
    "\n",
    "grid_search = GridSearch(KNNWithMeans, param_grid, measures=['RMSE'])\n",
    "\n",
    "grid_search.evaluate(train_data)\n",
    "\n",
    "results_df = pd.DataFrame.from_dict(grid_search.cv_results)\n"
   ]
  },
  {
   "cell_type": "code",
   "execution_count": 24,
   "metadata": {},
   "outputs": [
    {
     "data": {
      "image/png": "[encoded data removed]",
      "text/plain": [
       "<matplotlib.figure.Figure at 0x1a16effa20>"
      ]
     },
     "metadata": {},
     "output_type": "display_data"
    }
   ],
   "source": [
    "#plot the results of our hyper parameter optimization\n",
    "results_df.plot(x=['params'], y=['RMSE'], figsize=(10, 5))\n",
    "plt.show()"
   ]
  },
  {
   "cell_type": "markdown",
   "metadata": {},
   "source": [
    "From left to right on the graph above, different pairs of k and min-k are plotted to show how the RMSE is changing. Starting at the lowest k value and lowest min-k (k=30, min-k=1) on the left, the RMSE is relatively high. The number of neighbors being considered is small, and a user only needs to have 1 neighbor to calculate a prediction. This means the predictions will be unstable, since when there is only 1 neighbor, the user will take on the rating from that 1 neighbor. As min-k cycles from 1 to 5, the RMSE drops at min-k = 4. We confirm by finding the argmin for the best k and min-k below."
   ]
  },
  {
   "cell_type": "code",
   "execution_count": 25,
   "metadata": {},
   "outputs": [
    {
     "name": "stdout",
     "output_type": "stream",
     "text": [
      "0.929344240783\n",
      "{'k': 40, 'min_k': 4}\n"
     ]
    }
   ],
   "source": [
    "#find the best parameters\n",
    "# best RMSE score\n",
    "print(grid_search.best_score['RMSE'])\n",
    "\n",
    "# combination of parameters that gave the best RMSE score\n",
    "print(grid_search.best_params['RMSE'])"
   ]
  },
  {
   "cell_type": "markdown",
   "metadata": {},
   "source": [
    "Check accuracy on test set using the best parameters found from grid search:"
   ]
  },
  {
   "cell_type": "code",
   "execution_count": 26,
   "metadata": {},
   "outputs": [
    {
     "name": "stdout",
     "output_type": "stream",
     "text": [
      "Computing the pearson similarity matrix...\n",
      "Done computing similarity matrix.\n",
      "RMSE: 0.9053\n"
     ]
    }
   ],
   "source": [
    "sim_options = {'name': 'pearson',\n",
    "               'user_based': True  # compute  similarities between users\n",
    "               }\n",
    "\n",
    "algo = KNNWithMeans(k=40, min_k=4, sim_options=sim_options)\n",
    "\n",
    "for trainset, testset in data.folds():\n",
    "\n",
    "    # train and test algorithm.\n",
    "    algo.train(trainset)\n",
    "    predictions = algo.test(testset)\n",
    "    accuracy.rmse(predictions, verbose=True)  \n"
   ]
  },
  {
   "cell_type": "markdown",
   "metadata": {},
   "source": [
    "## How does the model scale from small data to larger data?\n"
   ]
  },
  {
   "cell_type": "code",
   "execution_count": 27,
   "metadata": {},
   "outputs": [
    {
     "name": "stdout",
     "output_type": "stream",
     "text": [
      "Computing the pearson similarity matrix...\n",
      "Done computing similarity matrix.\n",
      "RMSE: 1.1015\n",
      "Computing the pearson similarity matrix...\n",
      "Done computing similarity matrix.\n",
      "RMSE: 1.0701\n",
      "Computing the pearson similarity matrix...\n",
      "Done computing similarity matrix.\n",
      "RMSE: 1.0578\n",
      "Computing the pearson similarity matrix...\n",
      "Done computing similarity matrix.\n",
      "RMSE: 1.0402\n",
      "Computing the pearson similarity matrix...\n",
      "Done computing similarity matrix.\n",
      "RMSE: 1.0321\n",
      "Computing the pearson similarity matrix...\n",
      "Done computing similarity matrix.\n",
      "RMSE: 0.9947\n",
      "Computing the pearson similarity matrix...\n",
      "Done computing similarity matrix.\n",
      "RMSE: 0.9559\n",
      "Computing the pearson similarity matrix...\n",
      "Done computing similarity matrix.\n",
      "RMSE: 0.9460\n",
      "Computing the pearson similarity matrix...\n",
      "Done computing similarity matrix.\n",
      "RMSE: 0.9433\n"
     ]
    }
   ],
   "source": [
    "from timeit import default_timer as timer\n",
    "\n",
    "data = Dataset.load_builtin('ml-100k')\n",
    "raw_ratings = data.raw_ratings\n",
    "\n",
    "samples = []\n",
    "acc = []\n",
    "timing = []\n",
    "for i in range(1,10,1):\n",
    "    start = timer()\n",
    "    threshold = int((i/10) * len(raw_ratings))\n",
    "    A_raw_ratings = raw_ratings[:threshold]\n",
    "    B_raw_ratings = raw_ratings[threshold:]\n",
    "    \n",
    "    samples.append(threshold)\n",
    "\n",
    "    data.raw_ratings = A_raw_ratings  # data is now the set A\n",
    "    data.split(n_folds=3)\n",
    "\n",
    "    sim_options = {'name': 'pearson',\n",
    "                   'user_based': True  # compute  similarities between users\n",
    "                   }\n",
    "\n",
    "    #using best parameters from grid search\n",
    "    algo = KNNWithMeans(k=40, min_k=4, sim_options=sim_options)\n",
    "\n",
    "    # retrain on the whole set A\n",
    "    trainset = data.build_full_trainset()\n",
    "    algo.train(trainset)\n",
    "    end = timer()\n",
    "    timing.append(end - start) \n",
    "\n",
    "    # Compute unbiased accuracy on B\n",
    "    testset = data.construct_testset(B_raw_ratings)  # testset is now the set B\n",
    "    predictions = algo.test(testset)\n",
    "#     accuracy.rmse(predictions)\n",
    "    acc.append(accuracy.rmse(predictions))\n",
    "    "
   ]
  },
  {
   "cell_type": "code",
   "execution_count": 28,
   "metadata": {},
   "outputs": [
    {
     "data": {
      "image/png": "[encoded data removed]",
      "text/plain": [
       "<matplotlib.figure.Figure at 0x1a16c25ef0>"
      ]
     },
     "metadata": {},
     "output_type": "display_data"
    },
    {
     "data": {
      "image/png": "[encoded data removed]",
      "text/plain": [
       "<matplotlib.figure.Figure at 0x1a16ca65f8>"
      ]
     },
     "metadata": {},
     "output_type": "display_data"
    }
   ],
   "source": [
    "sample_acc = pd.DataFrame(list(zip(samples, acc, timing)),\n",
    "              columns=['sample_size','test_RMSE', 'runtime'])\n",
    "\n",
    "sample_acc.plot(x=['sample_size'], y=['test_RMSE'])\n",
    "sample_acc.plot(x=['sample_size'], y=['runtime'])\n",
    "\n",
    "plt.show()\n"
   ]
  },
  {
   "cell_type": "markdown",
   "metadata": {},
   "source": [
    "As you can see in the graphs above, as the size of the data being sampled gets larger, error gets lower (accuracy gets better). This makes sense because the model is being trained on a larger base of data and is more stable (central limit theorem). Accordingly, the runtime also increases because the model is finding neighbors for more users as the data gets larger."
   ]
  },
  {
   "cell_type": "markdown",
   "metadata": {},
   "source": [
    "## So how did we do with our model?\n",
    "The RMSE is low, at 0.9. However runtime appears to increaes rapidly as sample size increases, so this algorithm may not scale well.\n",
    "Another thing to watch out for is that this type of model may recommend the \"lowest common denominator\" movie - in other words, a movie that is unobjectionable but not particularly close to the user's specific taste."
   ]
  },
  {
   "cell_type": "markdown",
   "metadata": {},
   "source": [
    "## Let's try another method of collaborative filtering: Matrix Factorization\n"
   ]
  },
  {
   "cell_type": "markdown",
   "metadata": {},
   "source": [
    "### Import Data\n",
    "Note that a new movie ID has been created for this algorithm in order to reduce the dimmension of the matrix and maintian a relationship between the column number and the movie ID"
   ]
  },
  {
   "cell_type": "code",
   "execution_count": 36,
   "metadata": {},
   "outputs": [
    {
     "data": {
      "text/html": [
       "<div>\n",
       "<style>\n",
       "    .dataframe thead tr:only-child th {\n",
       "        text-align: right;\n",
       "    }\n",
       "\n",
       "    .dataframe thead th {\n",
       "        text-align: left;\n",
       "    }\n",
       "\n",
       "    .dataframe tbody tr th {\n",
       "        vertical-align: top;\n",
       "    }\n",
       "</style>\n",
       "<table border=\"1\" class=\"dataframe\">\n",
       "  <thead>\n",
       "    <tr style=\"text-align: right;\">\n",
       "      <th></th>\n",
       "      <th>new_movieId</th>\n",
       "      <th>movieId</th>\n",
       "      <th>title</th>\n",
       "    </tr>\n",
       "  </thead>\n",
       "  <tbody>\n",
       "    <tr>\n",
       "      <th>0</th>\n",
       "      <td>1</td>\n",
       "      <td>1</td>\n",
       "      <td>Toy Story (1995)</td>\n",
       "    </tr>\n",
       "    <tr>\n",
       "      <th>1</th>\n",
       "      <td>2</td>\n",
       "      <td>2</td>\n",
       "      <td>Jumanji (1995)</td>\n",
       "    </tr>\n",
       "    <tr>\n",
       "      <th>2</th>\n",
       "      <td>3</td>\n",
       "      <td>3</td>\n",
       "      <td>Grumpier Old Men (1995)</td>\n",
       "    </tr>\n",
       "    <tr>\n",
       "      <th>3</th>\n",
       "      <td>4</td>\n",
       "      <td>4</td>\n",
       "      <td>Waiting to Exhale (1995)</td>\n",
       "    </tr>\n",
       "    <tr>\n",
       "      <th>4</th>\n",
       "      <td>5</td>\n",
       "      <td>5</td>\n",
       "      <td>Father of the Bride Part II (1995)</td>\n",
       "    </tr>\n",
       "  </tbody>\n",
       "</table>\n",
       "</div>"
      ],
      "text/plain": [
       "   new_movieId  movieId                               title\n",
       "0            1        1                    Toy Story (1995)\n",
       "1            2        2                      Jumanji (1995)\n",
       "2            3        3             Grumpier Old Men (1995)\n",
       "3            4        4            Waiting to Exhale (1995)\n",
       "4            5        5  Father of the Bride Part II (1995)"
      ]
     },
     "execution_count": 36,
     "metadata": {},
     "output_type": "execute_result"
    }
   ],
   "source": [
    "# import the movie names data set\n",
    "\n",
    "movies = pd.read_csv('./data/movies_newid')\n",
    "movies.head()"
   ]
  },
  {
   "cell_type": "code",
   "execution_count": 37,
   "metadata": {
    "collapsed": true
   },
   "outputs": [],
   "source": [
    "# Import ratings\n",
    "\n",
    "rawdata = pd.read_csv('./data/ratings.csv')\n",
    "# replace the movie ID with the new movie id\n",
    "rawdata = pd.merge(rawdata,movies[['new_movieId','movieId']],how='left',left_on='movieId',right_on='movieId')\n",
    "rawdata = rawdata[['userId','new_movieId','rating']].rename(columns={'userId':'user_id', 'new_movieId':'movie_id'})\n",
    "ratings_full = rawdata"
   ]
  },
  {
   "cell_type": "code",
   "execution_count": 38,
   "metadata": {},
   "outputs": [
    {
     "name": "stdout",
     "output_type": "stream",
     "text": [
      "(80003, 3)  Train Data\n",
      "(20001, 3)  Test Data\n"
     ]
    },
    {
     "data": {
      "text/html": [
       "<div>\n",
       "<style>\n",
       "    .dataframe thead tr:only-child th {\n",
       "        text-align: right;\n",
       "    }\n",
       "\n",
       "    .dataframe thead th {\n",
       "        text-align: left;\n",
       "    }\n",
       "\n",
       "    .dataframe tbody tr th {\n",
       "        vertical-align: top;\n",
       "    }\n",
       "</style>\n",
       "<table border=\"1\" class=\"dataframe\">\n",
       "  <thead>\n",
       "    <tr style=\"text-align: right;\">\n",
       "      <th></th>\n",
       "      <th>user_id</th>\n",
       "      <th>movie_id</th>\n",
       "      <th>rating</th>\n",
       "    </tr>\n",
       "  </thead>\n",
       "  <tbody>\n",
       "    <tr>\n",
       "      <th>97841</th>\n",
       "      <td>654</td>\n",
       "      <td>2616</td>\n",
       "      <td>4.0</td>\n",
       "    </tr>\n",
       "    <tr>\n",
       "      <th>12883</th>\n",
       "      <td>82</td>\n",
       "      <td>259</td>\n",
       "      <td>3.0</td>\n",
       "    </tr>\n",
       "    <tr>\n",
       "      <th>40912</th>\n",
       "      <td>294</td>\n",
       "      <td>4620</td>\n",
       "      <td>4.0</td>\n",
       "    </tr>\n",
       "    <tr>\n",
       "      <th>15352</th>\n",
       "      <td>101</td>\n",
       "      <td>7576</td>\n",
       "      <td>5.0</td>\n",
       "    </tr>\n",
       "    <tr>\n",
       "      <th>37901</th>\n",
       "      <td>273</td>\n",
       "      <td>7952</td>\n",
       "      <td>5.0</td>\n",
       "    </tr>\n",
       "  </tbody>\n",
       "</table>\n",
       "</div>"
      ],
      "text/plain": [
       "       user_id  movie_id  rating\n",
       "97841      654      2616     4.0\n",
       "12883       82       259     3.0\n",
       "40912      294      4620     4.0\n",
       "15352      101      7576     5.0\n",
       "37901      273      7952     5.0"
      ]
     },
     "execution_count": 38,
     "metadata": {},
     "output_type": "execute_result"
    }
   ],
   "source": [
    "# We split the data into a training set and a test set\n",
    "# CAUTION: this code may have problems if the random test set contains all the ratings of the last movie. This is highly unlikely.\n",
    "\n",
    "rawdata_train, rawdata_test = train_test_split(rawdata,test_size=0.2)\n",
    "#rawdata = pd.read_csv('./data/ratings_train.csv')\n",
    "print(rawdata_train.shape, ' Train Data')\n",
    "print(rawdata_test.shape, ' Test Data')\n",
    "rawdata_train.head()"
   ]
  },
  {
   "cell_type": "markdown",
   "metadata": {},
   "source": [
    "### SCALING TEST: Test the time of execution with different data sparsities."
   ]
  },
  {
   "cell_type": "code",
   "execution_count": 41,
   "metadata": {},
   "outputs": [
    {
     "name": "stderr",
     "output_type": "stream",
     "text": [
      "/Users/deborahchung/anaconda/lib/python3.6/site-packages/sklearn/model_selection/_split.py:2026: FutureWarning: From version 0.21, test_size will always complement train_size unless both are specified.\n",
      "  FutureWarning)\n"
     ]
    },
    {
     "name": "stdout",
     "output_type": "stream",
     "text": [
      "Iteration:  0 data size:  0.9\n",
      "Iteration:  20 data size:  0.9\n",
      "Iteration:  40 data size:  0.9\n",
      "Iteration:  0 data size:  0.8\n",
      "Iteration:  20 data size:  0.8\n",
      "Iteration:  40 data size:  0.8\n",
      "Iteration:  0 data size:  0.7\n",
      "Iteration:  20 data size:  0.7\n",
      "Iteration:  40 data size:  0.7\n",
      "Iteration:  0 data size:  0.6\n",
      "Iteration:  20 data size:  0.6\n",
      "Iteration:  40 data size:  0.6\n",
      "Iteration:  0 data size:  0.5\n",
      "Iteration:  20 data size:  0.5\n",
      "Iteration:  40 data size:  0.5\n",
      "Iteration:  0 data size:  0.4\n",
      "Iteration:  20 data size:  0.4\n",
      "Iteration:  40 data size:  0.4\n",
      "Iteration:  0 data size:  0.3\n",
      "Iteration:  20 data size:  0.3\n",
      "Iteration:  40 data size:  0.3\n",
      "Iteration:  0 data size:  0.2\n"
     ]
    },
    {
     "ename": "KeyboardInterrupt",
     "evalue": "",
     "output_type": "error",
     "traceback": [
      "\u001b[0;31m---------------------------------------------------------------------------\u001b[0m",
      "\u001b[0;31mKeyboardInterrupt\u001b[0m                         Traceback (most recent call last)",
      "\u001b[0;32m<ipython-input-41-6e097e96bbf8>\u001b[0m in \u001b[0;36m<module>\u001b[0;34m()\u001b[0m\n\u001b[1;32m     56\u001b[0m             \u001b[0mtemp\u001b[0m \u001b[0;34m=\u001b[0m \u001b[0mlam\u001b[0m\u001b[0;34m*\u001b[0m\u001b[0msigma\u001b[0m\u001b[0;34m*\u001b[0m\u001b[0mnp\u001b[0m\u001b[0;34m.\u001b[0m\u001b[0midentity\u001b[0m\u001b[0;34m(\u001b[0m\u001b[0mlen\u001b[0m\u001b[0;34m(\u001b[0m\u001b[0mtemp\u001b[0m\u001b[0;34m)\u001b[0m\u001b[0;34m)\u001b[0m \u001b[0;34m+\u001b[0m \u001b[0mtemp\u001b[0m\u001b[0;34m\u001b[0m\u001b[0m\n\u001b[1;32m     57\u001b[0m             \u001b[0mtemp\u001b[0m \u001b[0;34m=\u001b[0m \u001b[0mnp\u001b[0m\u001b[0;34m.\u001b[0m\u001b[0mlinalg\u001b[0m\u001b[0;34m.\u001b[0m\u001b[0minv\u001b[0m\u001b[0;34m(\u001b[0m\u001b[0mtemp\u001b[0m\u001b[0;34m)\u001b[0m\u001b[0;34m\u001b[0m\u001b[0m\n\u001b[0;32m---> 58\u001b[0;31m             \u001b[0mtemp\u001b[0m \u001b[0;34m=\u001b[0m \u001b[0mtemp\u001b[0m\u001b[0;34m.\u001b[0m\u001b[0mdot\u001b[0m\u001b[0;34m(\u001b[0m\u001b[0mV\u001b[0m\u001b[0;34m[\u001b[0m\u001b[0;34m:\u001b[0m\u001b[0;34m,\u001b[0m\u001b[0mmask\u001b[0m\u001b[0;34m]\u001b[0m\u001b[0;34m.\u001b[0m\u001b[0mdot\u001b[0m\u001b[0;34m(\u001b[0m\u001b[0mM\u001b[0m\u001b[0;34m[\u001b[0m\u001b[0mi\u001b[0m\u001b[0;34m,\u001b[0m\u001b[0;34m:\u001b[0m\u001b[0;34m]\u001b[0m\u001b[0;34m[\u001b[0m\u001b[0mmask\u001b[0m\u001b[0;34m]\u001b[0m\u001b[0;34m)\u001b[0m\u001b[0;34m)\u001b[0m\u001b[0;34m\u001b[0m\u001b[0m\n\u001b[0m\u001b[1;32m     59\u001b[0m             \u001b[0mU\u001b[0m\u001b[0;34m[\u001b[0m\u001b[0mi\u001b[0m\u001b[0;34m]\u001b[0m \u001b[0;34m=\u001b[0m \u001b[0mtemp\u001b[0m\u001b[0;34m\u001b[0m\u001b[0m\n\u001b[1;32m     60\u001b[0m         \u001b[0;31m#\u001b[0m\u001b[0;34m\u001b[0m\u001b[0;34m\u001b[0m\u001b[0m\n",
      "\u001b[0;31mKeyboardInterrupt\u001b[0m: "
     ]
    }
   ],
   "source": [
    "# This cell runs the model with datasets of different sizes to test the execution time\n",
    "\n",
    "#Parameters\n",
    "ds= 10 # The number of factors\n",
    "sigmas = 1 # The learning rate\n",
    "lams = 5 # The regularization parameter\n",
    "iterations = 50\n",
    "data_sizes = [.9,.8, .7,.6, .5, .4, .3,.2,.1]\n",
    "\n",
    "durations = pd.DataFrame(np.zeros((len(data_sizes), 2)), columns=['percent_of_data', 'Time in seconds'])\n",
    "# MODEL\n",
    "\n",
    "# Now we run the model for different sizes size data set\n",
    "for row, keep in enumerate(data_sizes):\n",
    "    \n",
    "    # We now create the appropriate matrcies to for the training data and the test data\n",
    "\n",
    "    #First we create two empty matrix (train  & test) with the same dimmesions.\n",
    "    rawdata_train2, delme = train_test_split(rawdata_train, train_size=keep)\n",
    "    rawdata=rawdata_train2\n",
    "    M = np.zeros((ratings_full.user_id.max()+1,movies.new_movieId.max()+1))\n",
    "    M[:,:] = np.nan\n",
    "\n",
    "\n",
    "    # Now we populate the training matrix with training ratings\n",
    "    rawdata = np.asanyarray(rawdata)\n",
    "    for uid, mid, rating in rawdata:\n",
    "        M[int(uid),int(mid)] = rating\n",
    "\n",
    "    # We make use of masks to easily identify the cells with an actual rating\n",
    "    MTF = ~np.isnan(M)\n",
    "    M0 = np.nan_to_num(M)\n",
    "\n",
    "    # Set Variables\n",
    "    d = ds\n",
    "    sigma = sigmas\n",
    "    lam = lams\n",
    "\n",
    "    #Initialize U and V\n",
    "    U = np.random.randn(M.shape[0],d)\n",
    "    V = np.random.randn(d,M.shape[1])\n",
    "    \n",
    "    omega = np.nan_to_num(np.divide(M,M))\n",
    "    objective = np.array([])\n",
    "    rmse_temp = np.array([])\n",
    "    \n",
    "    #\n",
    "    start = timer()\n",
    "    for n in range(iterations):\n",
    "        #\n",
    "    \n",
    "        for i in range(M.shape[0]):\n",
    "\n",
    "            mask = MTF[i,:]\n",
    "            temp = V[:,mask].dot(V[:,mask].T)\n",
    "            temp = lam*sigma*np.identity(len(temp)) + temp\n",
    "            temp = np.linalg.inv(temp)\n",
    "            temp = temp.dot(V[:,mask].dot(M[i,:][mask]))\n",
    "            U[i] = temp\n",
    "        #  \n",
    "        for j in range(M.shape[1]):\n",
    "\n",
    "            mask = MTF[:,j]\n",
    "            temp = U.T[:,mask].dot(U.T[:,mask].T)\n",
    "            temp = lam*sigma*np.identity(len(temp)) + temp\n",
    "            temp = np.linalg.inv(temp)\n",
    "            temp = temp.dot(U.T[:,mask].dot(M[:,j][mask]))\n",
    "            V[:,j] = temp\n",
    "        \n",
    "    \n",
    "        # Get all my predictions\n",
    "        Mguess = U.dot(V)\n",
    "        if (n)%20 ==0:\n",
    "            print('Iteration: ',n , 'data size: ', keep)\n",
    "    end = timer()\n",
    "    duration = [(end-start)]\n",
    "    durations.iloc[row] = [keep, duration[0]]\n",
    "\n",
    "\n",
    "#####\n",
    "durations"
   ]
  },
  {
   "cell_type": "code",
   "execution_count": 10,
   "metadata": {},
   "outputs": [
    {
     "name": "stdout",
     "output_type": "stream",
     "text": [
      "The chart below shows the time for execution has high variability but it does not change drasticly. \n",
      "This is probably because all test contain the same amount of users, movies and rating matrix dimensions. \n",
      "An alternative way to test scaling could be to remove movies and or users from the data set.\n"
     ]
    },
    {
     "data": {
      "image/png": "[encoded data removed]",
      "text/plain": [
       "<matplotlib.figure.Figure at 0x11b327ef0>"
      ]
     },
     "metadata": {},
     "output_type": "display_data"
    }
   ],
   "source": [
    "plt.plot(durations.set_index('percent_of_data'))\n",
    "plt.title('Time of execution vs Size of data (50 Iteration per run)')\n",
    "plt.xlabel('Percent used from full data (full data set is 80003)')\n",
    "plt.ylabel('Duration in seconds')\n",
    "\n",
    "print('The chart below shows the time for execution has high variability but it does not change drastically. \\n\\\n",
    "This is probably because all test contain the same amount of users, movies and rating matrix dimensions. \\n\\\n",
    "An alternative way to test scaling could be to remove movies and or users from the data set.')\n",
    "plt.show()"
   ]
  },
  {
   "cell_type": "code",
   "execution_count": 16,
   "metadata": {
    "collapsed": true
   },
   "outputs": [],
   "source": [
    "# We now create the appropriate matrcies to for the training data and the test data\n",
    "\n",
    "#First we create two empty matrix (train  & test) with the same dimmesions.\n",
    "rawdata=rawdata_train\n",
    "M = np.zeros((ratings_full.user_id.max()+1,movies.new_movieId.max()+1))\n",
    "M[:,:] = np.nan\n",
    "\n",
    "Mtest = np.zeros((ratings_full.user_id.max()+1,movies.new_movieId.max()+1))\n",
    "Mtest[:,:] = np.nan\n",
    "\n",
    "# Now we populate the training matrix with training ratings\n",
    "rawdata = np.asanyarray(rawdata)\n",
    "for uid, mid, rating in rawdata:\n",
    "    M[int(uid),int(mid)] = rating\n",
    "    \n",
    "# We make use of masks to easily identify the cells with an actual rating\n",
    "MTF = ~np.isnan(M)\n",
    "M0 = np.nan_to_num(M)\n",
    "\n",
    "# Here we populate the test matrix with the test ratings\n",
    "rawdata = rawdata_test\n",
    "rawdata = np.asanyarray(rawdata)\n",
    "for uid, mid, rating in rawdata:\n",
    "    Mtest[int(uid),int(mid)] = rating\n",
    "\n",
    "MtestTF = ~np.isnan(Mtest)"
   ]
  },
  {
   "cell_type": "markdown",
   "metadata": {},
   "source": [
    "### How many ratings do we have for each movie?\n",
    "We want to see how sparse our data is, so let's plot the average and median number of ratings per movie. "
   ]
  },
  {
   "cell_type": "code",
   "execution_count": 12,
   "metadata": {},
   "outputs": [
    {
     "name": "stdout",
     "output_type": "stream",
     "text": [
      " \n",
      " The chart below shows that most movies have less than 8 ratings\n"
     ]
    },
    {
     "data": {
      "image/png": "[encoded data removed]",
      "text/plain": [
       "<matplotlib.figure.Figure at 0x11ba894e0>"
      ]
     },
     "metadata": {},
     "output_type": "display_data"
    }
   ],
   "source": [
    "# Show the number of ratings per movie\n",
    "temp = MTF.sum(axis=0)\n",
    "avg = temp.mean()\n",
    "mid = np.median(temp)\n",
    "\n",
    "plt.figure(figsize=(15,7))\n",
    "#plt.plot(MTF.sum(axis=0))\n",
    "plt.scatter(range(temp.shape[0]), MTF.sum(axis=0), marker='.')\n",
    "plt.axhline(y=avg, color='r', label='MEAN: %i' %int(avg) )\n",
    "plt.axhline(y=mid, color='y', label='MEDIAN: %i' %int(mid) )\n",
    "plt.title('Number of users that rated the movie')\n",
    "plt.xlabel('Movie ID (1-9125)')\n",
    "plt.ylabel('Number of users that rated the movie')\n",
    "plt.legend()\n",
    "print(' \\n', 'The chart below shows that most movies have less than 8 ratings')\n",
    "plt.show()"
   ]
  },
  {
   "cell_type": "code",
   "execution_count": 13,
   "metadata": {},
   "outputs": [
    {
     "data": {
      "text/html": [
       "<div>\n",
       "<table border=\"1\" class=\"dataframe\">\n",
       "  <thead>\n",
       "    <tr style=\"text-align: right;\">\n",
       "      <th></th>\n",
       "      <th>new_movieId</th>\n",
       "      <th>movieId</th>\n",
       "      <th>title</th>\n",
       "      <th>ratings_count</th>\n",
       "    </tr>\n",
       "  </thead>\n",
       "  <tbody>\n",
       "    <tr>\n",
       "      <th>0</th>\n",
       "      <td>1</td>\n",
       "      <td>1</td>\n",
       "      <td>Toy Story (1995)</td>\n",
       "      <td>201</td>\n",
       "    </tr>\n",
       "    <tr>\n",
       "      <th>1</th>\n",
       "      <td>2</td>\n",
       "      <td>2</td>\n",
       "      <td>Jumanji (1995)</td>\n",
       "      <td>85</td>\n",
       "    </tr>\n",
       "    <tr>\n",
       "      <th>2</th>\n",
       "      <td>3</td>\n",
       "      <td>3</td>\n",
       "      <td>Grumpier Old Men (1995)</td>\n",
       "      <td>48</td>\n",
       "    </tr>\n",
       "    <tr>\n",
       "      <th>3</th>\n",
       "      <td>4</td>\n",
       "      <td>4</td>\n",
       "      <td>Waiting to Exhale (1995)</td>\n",
       "      <td>8</td>\n",
       "    </tr>\n",
       "    <tr>\n",
       "      <th>4</th>\n",
       "      <td>5</td>\n",
       "      <td>5</td>\n",
       "      <td>Father of the Bride Part II (1995)</td>\n",
       "      <td>47</td>\n",
       "    </tr>\n",
       "  </tbody>\n",
       "</table>\n",
       "</div>"
      ],
      "text/plain": [
       "   new_movieId  movieId                               title  ratings_count\n",
       "0            1        1                    Toy Story (1995)            201\n",
       "1            2        2                      Jumanji (1995)             85\n",
       "2            3        3             Grumpier Old Men (1995)             48\n",
       "3            4        4            Waiting to Exhale (1995)              8\n",
       "4            5        5  Father of the Bride Part II (1995)             47"
      ]
     },
     "execution_count": 13,
     "metadata": {},
     "output_type": "execute_result"
    }
   ],
   "source": [
    "# We add this number to the movies matrix becuase they will provide a good idea of how much information we have about each movie.\n",
    "\n",
    "temp = pd.DataFrame(MTF.sum(axis=0)).reset_index()\n",
    "temp = movies.merge(temp, how='left', left_on='new_movieId', right_on='index')\n",
    "temp = temp.rename(columns={0:'ratings_count'})\n",
    "temp = temp.drop('index', axis=1)\n",
    "movies = temp\n",
    "movies.head()"
   ]
  },
  {
   "cell_type": "markdown",
   "metadata": {},
   "source": [
    "### Parameter optimization and model execution\n",
    "\n",
    "Let's run the model with different parameters and choose the set of parameters that results in the lowest RMSE."
   ]
  },
  {
   "cell_type": "code",
   "execution_count": null,
   "metadata": {
    "collapsed": true
   },
   "outputs": [],
   "source": [
    "#%% Now we will run the movdel with different parameters and choose the one with the lowers RMSE\n",
    "\n",
    "ds= [10, 15] # The number of factors\n",
    "sigmas = [.5, 1] # The learning rate\n",
    "lams = [1, 5] # The regularization parameter\n",
    "\n",
    "iterations = 50 # Number of epochs\n",
    "rounds = (len(ds)*len(sigmas)*len(lams))"
   ]
  },
  {
   "cell_type": "code",
   "execution_count": null,
   "metadata": {},
   "outputs": [],
   "source": [
    "# This cell will run the model for each combination of the the parameters. It will also choose the model with the lowest RMSE.\n",
    "\n",
    "# We create some tables to capture metadata about the model execution\n",
    "objective_all = np.zeros((iterations,rounds))\n",
    "rmse_all = np.zeros((iterations,rounds))\n",
    "cols = ['round','factors','sigma','lambda','mae','rmse', 'objective']\n",
    "rmse_obj = pd.DataFrame(np.zeros((rounds,len(cols))), columns= cols)\n",
    "objective_best = 0\n",
    "rmse_best=1000\n",
    "\n",
    "# Now we run the model for all the parameter combinations\n",
    "for r,combination in enumerate(itertools.product(ds, sigmas, lams)):\n",
    "    d = combination[0]\n",
    "    sigma = combination[1]\n",
    "    lam = combination[2]\n",
    "\n",
    "    #Initialize U and V\n",
    "    U = np.random.randn(M.shape[0],d)\n",
    "    V = np.random.randn(d,M.shape[1])\n",
    "    #V = pd.read_csv('v_init_jc.csv',header= None)\n",
    "    #V = np.asanyarray(V)\n",
    "    \n",
    "    omega = np.nan_to_num(np.divide(M,M))\n",
    "    objective = np.array([])\n",
    "    rmse_temp = np.array([])\n",
    "    \n",
    "    #\n",
    "    for n in range(iterations):\n",
    "        #\n",
    "    \n",
    "        for i in range(M.shape[0]):\n",
    "            #temp = V.dot(omega[i]*np.identity(len(omega[i]))).dot(V.T)\n",
    "            #\n",
    "            mask = MTF[i,:]\n",
    "            temp = V[:,mask].dot(V[:,mask].T)\n",
    "            temp = lam*sigma*np.identity(len(temp)) + temp\n",
    "            temp = np.linalg.inv(temp)\n",
    "            #temp = temp.dot(V.dot(M0[i]))\n",
    "            temp = temp.dot(V[:,mask].dot(M[i,:][mask]))\n",
    "            U[i] = temp\n",
    "        #  \n",
    "        for j in range(M.shape[1]):\n",
    "            #temp = U.T.dot(omega[:,j]*np.identity(len(omega[:,j]))).dot(U)\n",
    "            mask = MTF[:,j]\n",
    "            temp = U.T[:,mask].dot(U.T[:,mask].T)\n",
    "            temp = lam*sigma*np.identity(len(temp)) + temp\n",
    "            temp = np.linalg.inv(temp)\n",
    "            #temp = temp.dot(U.T.dot(M0[:,j]))  # Are the indexs correct?\n",
    "            temp = temp.dot(U.T[:,mask].dot(M[:,j][mask]))\n",
    "            V[:,j] = temp\n",
    "        #print(n, ':iteration  ', r, ':Round', d, ':d', sigma, 'sigma', lam, ':Lambda')\n",
    "    \n",
    "        # Get all my predictions\n",
    "        Mguess = U.dot(V)\n",
    "        \n",
    "        # COLLECT OUTPUTS:  \n",
    "        # Calculate my Objective function for each iteration\n",
    "        #temp = omega * Mguess\n",
    "        #temp = (1/(2*sigma)) * np.abs(M0 - temp)**2\n",
    "        temp = (1/(2*sigma)) * np.linalg.norm(M[MTF] - Mguess[MTF])**2\n",
    "        \n",
    "        #temp = temp.sum()       \n",
    "        temp = -temp - ((lam/2)*(np.linalg.norm(U)**2)) - ((lam/2)*(np.linalg.norm(V)**2)) \n",
    "        \n",
    "        # Calculate my RMSE\n",
    " \n",
    "        objective = np.append(objective, temp)\n",
    "        \n",
    "        # Calculate RMSE for each iteration\n",
    "        temp2 = np.sqrt(((Mguess[MtestTF] - Mtest[MtestTF])**2).mean())\n",
    "        rmse_temp = np.append(rmse_temp, temp2)\n",
    "        \n",
    "        if n%20 == 0:\n",
    "            print(n, ':iteration  ', r, ':Round', d, ':d', sigma, 'sigma', lam, ':Lambda', object)\n",
    "        \n",
    "    objective_all[:,r] = objective\n",
    "    rmse_all[:,r] = rmse_temp\n",
    "    # Save the best V\n",
    "\n",
    "    if rmse_temp[-1]< rmse_best:\n",
    "        rmse_best = rmse_temp[-1]\n",
    "        V_final = V\n",
    "        U_final = U\n",
    "        Mguess_final = Mguess\n",
    "        r_final = r\n",
    "        print(r,' Best Round')\n",
    "    print(r, ' :Round', rmse_temp[-1], ' :rmse', rmse_best, ' : best rmse')\n",
    "    # Calculate the RMSE\n",
    "    mae = (np.abs(Mguess[MtestTF] - Mtest[MtestTF]).sum())/MtestTF.sum()\n",
    "    rmse = np.sqrt((((Mguess[MtestTF] - Mtest[MtestTF])**2).sum())/MtestTF.sum())\n",
    "    rmse_obj.iloc[r] = [r, d, sigma, lam, mae, rmse, objective[-1]] #add temp to add the objective back in"
   ]
  },
  {
   "cell_type": "code",
   "execution_count": 19,
   "metadata": {},
   "outputs": [
    {
     "name": "stdout",
     "output_type": "stream",
     "text": [
      "This shows the rmse and the correlating parameter of each round\n",
      "Round: 3  was the one with the lowest RMSE and it will be the model used goin forward.\n"
     ]
    },
    {
     "data": {
      "text/html": [
       "<div>\n",
       "<table border=\"1\" class=\"dataframe\">\n",
       "  <thead>\n",
       "    <tr style=\"text-align: right;\">\n",
       "      <th></th>\n",
       "      <th>round</th>\n",
       "      <th>factors</th>\n",
       "      <th>sigma</th>\n",
       "      <th>lambda</th>\n",
       "      <th>mae</th>\n",
       "      <th>rmse</th>\n",
       "      <th>objective</th>\n",
       "    </tr>\n",
       "  </thead>\n",
       "  <tbody>\n",
       "    <tr>\n",
       "      <th>0</th>\n",
       "      <td>0.0</td>\n",
       "      <td>10.0</td>\n",
       "      <td>0.5</td>\n",
       "      <td>1.0</td>\n",
       "      <td>1.070843</td>\n",
       "      <td>1.491435</td>\n",
       "      <td>-30246.726817</td>\n",
       "    </tr>\n",
       "    <tr>\n",
       "      <th>1</th>\n",
       "      <td>1.0</td>\n",
       "      <td>10.0</td>\n",
       "      <td>0.5</td>\n",
       "      <td>5.0</td>\n",
       "      <td>0.931558</td>\n",
       "      <td>1.289712</td>\n",
       "      <td>-63377.467805</td>\n",
       "    </tr>\n",
       "    <tr>\n",
       "      <th>2</th>\n",
       "      <td>2.0</td>\n",
       "      <td>10.0</td>\n",
       "      <td>1.0</td>\n",
       "      <td>1.0</td>\n",
       "      <td>0.974968</td>\n",
       "      <td>1.346865</td>\n",
       "      <td>-19026.549029</td>\n",
       "    </tr>\n",
       "    <tr>\n",
       "      <th>3</th>\n",
       "      <td>3.0</td>\n",
       "      <td>10.0</td>\n",
       "      <td>1.0</td>\n",
       "      <td>5.0</td>\n",
       "      <td>0.901063</td>\n",
       "      <td>1.243874</td>\n",
       "      <td>-50240.649600</td>\n",
       "    </tr>\n",
       "    <tr>\n",
       "      <th>4</th>\n",
       "      <td>4.0</td>\n",
       "      <td>15.0</td>\n",
       "      <td>0.5</td>\n",
       "      <td>1.0</td>\n",
       "      <td>1.143849</td>\n",
       "      <td>1.564359</td>\n",
       "      <td>-23390.129019</td>\n",
       "    </tr>\n",
       "    <tr>\n",
       "      <th>5</th>\n",
       "      <td>5.0</td>\n",
       "      <td>15.0</td>\n",
       "      <td>0.5</td>\n",
       "      <td>5.0</td>\n",
       "      <td>0.966964</td>\n",
       "      <td>1.320471</td>\n",
       "      <td>-58017.684301</td>\n",
       "    </tr>\n",
       "    <tr>\n",
       "      <th>6</th>\n",
       "      <td>6.0</td>\n",
       "      <td>15.0</td>\n",
       "      <td>1.0</td>\n",
       "      <td>1.0</td>\n",
       "      <td>1.061924</td>\n",
       "      <td>1.443224</td>\n",
       "      <td>-16097.711135</td>\n",
       "    </tr>\n",
       "    <tr>\n",
       "      <th>7</th>\n",
       "      <td>7.0</td>\n",
       "      <td>15.0</td>\n",
       "      <td>1.0</td>\n",
       "      <td>5.0</td>\n",
       "      <td>0.928577</td>\n",
       "      <td>1.274205</td>\n",
       "      <td>-48335.796510</td>\n",
       "    </tr>\n",
       "  </tbody>\n",
       "</table>\n",
       "</div>"
      ],
      "text/plain": [
       "   round  factors  sigma  lambda       mae      rmse     objective\n",
       "0    0.0     10.0    0.5     1.0  1.070843  1.491435 -30246.726817\n",
       "1    1.0     10.0    0.5     5.0  0.931558  1.289712 -63377.467805\n",
       "2    2.0     10.0    1.0     1.0  0.974968  1.346865 -19026.549029\n",
       "3    3.0     10.0    1.0     5.0  0.901063  1.243874 -50240.649600\n",
       "4    4.0     15.0    0.5     1.0  1.143849  1.564359 -23390.129019\n",
       "5    5.0     15.0    0.5     5.0  0.966964  1.320471 -58017.684301\n",
       "6    6.0     15.0    1.0     1.0  1.061924  1.443224 -16097.711135\n",
       "7    7.0     15.0    1.0     5.0  0.928577  1.274205 -48335.796510"
      ]
     },
     "execution_count": 19,
     "metadata": {},
     "output_type": "execute_result"
    }
   ],
   "source": [
    "print('This shows the rmse and the correlating parameter of each round')\n",
    "print('Round:', r_final, ' was the one with the lowest RMSE and it will be the model used goin forward.')\n",
    "rmse_obj"
   ]
  },
  {
   "cell_type": "markdown",
   "metadata": {},
   "source": [
    "### Model performance"
   ]
  },
  {
   "cell_type": "code",
   "execution_count": 32,
   "metadata": {},
   "outputs": [
    {
     "name": "stdout",
     "output_type": "stream",
     "text": [
      "The chart below shows the objective function calculated against the training data.\n",
      "It is interesting that the round with the best objective function is not the one with the lowest RMSE.\n",
      "This may be due to the fact that some combination of parameters result in overfitting\n"
     ]
    },
    {
     "data": {
      "image/png": "[encoded data removed]",
      "text/plain": [
       "<matplotlib.figure.Figure at 0x11c68d9e8>"
      ]
     },
     "metadata": {},
     "output_type": "display_data"
    }
   ],
   "source": [
    "#%%     Plot objective function\n",
    "temp = pd.DataFrame(objective_all)\n",
    "plt.figure(figsize=(12,12))\n",
    "for i in range(rounds):\n",
    "    #plt.scatter(range(1,100), objective_all[:,i], alpha= .5, s= 15, label= 'Round %i' %(i+1))\n",
    "    plt.plot(objective_all[:,i], label= 'Round %i' %(i))\n",
    "    plt.legend()\n",
    "    plt.title('Objective Function for each rounds')\n",
    "    plt.xlabel('Iteration')\n",
    "    plt.ylabel('Objective Function Value')\n",
    "print('The chart below shows the objective function calculated against the training data.\\n\\\n",
    "It is interesting that the round with the best objective function is not the one with the lowest RMSE.\\n\\\n",
    "This may be due to the fact that some combination of parameters result in overfitting')\n",
    "plt.show()"
   ]
  },
  {
   "cell_type": "code",
   "execution_count": 33,
   "metadata": {},
   "outputs": [
    {
     "name": "stdout",
     "output_type": "stream",
     "text": [
      "The plot below shows that performance for each combination of model parameters\n"
     ]
    },
    {
     "data": {
      "image/png": "[encoded data removed]",
      "text/plain": [
       "<matplotlib.figure.Figure at 0x11c5a0ba8>"
      ]
     },
     "metadata": {},
     "output_type": "display_data"
    }
   ],
   "source": [
    "#%%     Plot RMSE for each round across each iteration\n",
    "temp = pd.DataFrame(rmse_all)\n",
    "plt.figure(figsize=(12,12))\n",
    "for i in range(rounds):\n",
    "    #plt.scatter(range(1,100), objective_all[:,i], alpha= .5, s= 15, label= 'Round %i' %(i+1))\n",
    "    plt.plot(rmse_all[:,i], label= 'Round %i' %(i))\n",
    "    plt.legend()\n",
    "    plt.title('RMSE over  Rounds')\n",
    "    plt.xlabel('Iteration')\n",
    "    plt.ylabel('RMSE Value')\n",
    "print('The plot below shows that performance for each combination of model parameters')\n",
    "plt.show()"
   ]
  },
  {
   "cell_type": "markdown",
   "metadata": {},
   "source": [
    "### Find the 10 closest movies\n",
    "First search a movie, then select the new_movieId.\n",
    "We will first search for \"Star Wars\"\n"
   ]
  },
  {
   "cell_type": "code",
   "execution_count": 44,
   "metadata": {},
   "outputs": [
    {
     "data": {
      "text/html": [
       "<div>\n",
       "<table border=\"1\" class=\"dataframe\">\n",
       "  <thead>\n",
       "    <tr style=\"text-align: right;\">\n",
       "      <th></th>\n",
       "      <th>title</th>\n",
       "      <th>ratings_count</th>\n",
       "      <th>new_movieId</th>\n",
       "    </tr>\n",
       "  </thead>\n",
       "  <tbody>\n",
       "    <tr>\n",
       "      <th>232</th>\n",
       "      <td>Star Wars: Episode IV - A New Hope (1977)</td>\n",
       "      <td>234</td>\n",
       "      <td>233</td>\n",
       "    </tr>\n",
       "    <tr>\n",
       "      <th>953</th>\n",
       "      <td>Star Wars: Episode V - The Empire Strikes Back...</td>\n",
       "      <td>177</td>\n",
       "      <td>954</td>\n",
       "    </tr>\n",
       "    <tr>\n",
       "      <th>966</th>\n",
       "      <td>Star Wars: Episode VI - Return of the Jedi (1983)</td>\n",
       "      <td>178</td>\n",
       "      <td>967</td>\n",
       "    </tr>\n",
       "    <tr>\n",
       "      <th>2103</th>\n",
       "      <td>Star Wars: Episode I - The Phantom Menace (1999)</td>\n",
       "      <td>113</td>\n",
       "      <td>2104</td>\n",
       "    </tr>\n",
       "    <tr>\n",
       "      <th>4103</th>\n",
       "      <td>Star Wars: Episode II - Attack of the Clones (...</td>\n",
       "      <td>66</td>\n",
       "      <td>4104</td>\n",
       "    </tr>\n",
       "    <tr>\n",
       "      <th>6139</th>\n",
       "      <td>Star Wars: Episode III - Revenge of the Sith (...</td>\n",
       "      <td>47</td>\n",
       "      <td>6140</td>\n",
       "    </tr>\n",
       "    <tr>\n",
       "      <th>7023</th>\n",
       "      <td>Star Wars: The Clone Wars (2008)</td>\n",
       "      <td>3</td>\n",
       "      <td>7024</td>\n",
       "    </tr>\n",
       "    <tr>\n",
       "      <th>7570</th>\n",
       "      <td>Empire of Dreams: The Story of the 'Star Wars'...</td>\n",
       "      <td>1</td>\n",
       "      <td>7571</td>\n",
       "    </tr>\n",
       "    <tr>\n",
       "      <th>8783</th>\n",
       "      <td>Star Wars: Episode VII - The Force Awakens (2015)</td>\n",
       "      <td>26</td>\n",
       "      <td>8784</td>\n",
       "    </tr>\n",
       "  </tbody>\n",
       "</table>\n",
       "</div>"
      ],
      "text/plain": [
       "                                                  title  ratings_count  \\\n",
       "232           Star Wars: Episode IV - A New Hope (1977)            234   \n",
       "953   Star Wars: Episode V - The Empire Strikes Back...            177   \n",
       "966   Star Wars: Episode VI - Return of the Jedi (1983)            178   \n",
       "2103   Star Wars: Episode I - The Phantom Menace (1999)            113   \n",
       "4103  Star Wars: Episode II - Attack of the Clones (...             66   \n",
       "6139  Star Wars: Episode III - Revenge of the Sith (...             47   \n",
       "7023                   Star Wars: The Clone Wars (2008)              3   \n",
       "7570  Empire of Dreams: The Story of the 'Star Wars'...              1   \n",
       "8783  Star Wars: Episode VII - The Force Awakens (2015)             26   \n",
       "\n",
       "      new_movieId  \n",
       "232           233  \n",
       "953           954  \n",
       "966           967  \n",
       "2103         2104  \n",
       "4103         4104  \n",
       "6139         6140  \n",
       "7023         7024  \n",
       "7570         7571  \n",
       "8783         8784  "
      ]
     },
     "execution_count": 44,
     "metadata": {},
     "output_type": "execute_result"
    }
   ],
   "source": [
    "#%% Find your movie\n",
    "searchmovie = 'Star Wa'\n",
    "\n",
    "\n",
    "mask = movies.title.str.contains(searchmovie,case=False)\n",
    "movies[mask][['title','ratings_count','new_movieId']]\n",
    "#Input new_movieId on cell below"
   ]
  },
  {
   "cell_type": "code",
   "execution_count": 45,
   "metadata": {
    "collapsed": true
   },
   "outputs": [],
   "source": [
    "# Enter your Newmovie ID\n",
    "selectmovieId = 967\n",
    "\n",
    "\n",
    "mask = movies.new_movieId == selectmovieId\n",
    "selectmovie_act = movies[mask]['title'].values[0]"
   ]
  },
  {
   "cell_type": "markdown",
   "metadata": {},
   "source": [
    "Here are the top 20 recommendations for users looking for \"Star Wars: Episode VI\""
   ]
  },
  {
   "cell_type": "code",
   "execution_count": 43,
   "metadata": {},
   "outputs": [
    {
     "data": {
      "text/html": [
       "<div>\n",
       "<table border=\"1\" class=\"dataframe\">\n",
       "  <thead>\n",
       "    <tr style=\"text-align: right;\">\n",
       "      <th></th>\n",
       "      <th>Star Wars: Episode VI - Return of the Jedi (1983)</th>\n",
       "      <th>title</th>\n",
       "    </tr>\n",
       "  </thead>\n",
       "  <tbody>\n",
       "    <tr>\n",
       "      <th>0</th>\n",
       "      <td>0.441927</td>\n",
       "      <td>Star Wars: Episode V - The Empire Strikes Back...</td>\n",
       "    </tr>\n",
       "    <tr>\n",
       "      <th>1</th>\n",
       "      <td>0.455841</td>\n",
       "      <td>Star Wars: Episode IV - A New Hope (1977)</td>\n",
       "    </tr>\n",
       "    <tr>\n",
       "      <th>2</th>\n",
       "      <td>0.478243</td>\n",
       "      <td>Dark Knight, The (2008)</td>\n",
       "    </tr>\n",
       "    <tr>\n",
       "      <th>3</th>\n",
       "      <td>0.562239</td>\n",
       "      <td>Godfather: Part II, The (1974)</td>\n",
       "    </tr>\n",
       "    <tr>\n",
       "      <th>4</th>\n",
       "      <td>0.587874</td>\n",
       "      <td>Gladiator (2000)</td>\n",
       "    </tr>\n",
       "    <tr>\n",
       "      <th>5</th>\n",
       "      <td>0.592627</td>\n",
       "      <td>Matrix, The (1999)</td>\n",
       "    </tr>\n",
       "    <tr>\n",
       "      <th>6</th>\n",
       "      <td>0.639995</td>\n",
       "      <td>Untouchables, The (1987)</td>\n",
       "    </tr>\n",
       "    <tr>\n",
       "      <th>7</th>\n",
       "      <td>0.681027</td>\n",
       "      <td>Raiders of the Lost Ark (Indiana Jones and the...</td>\n",
       "    </tr>\n",
       "    <tr>\n",
       "      <th>8</th>\n",
       "      <td>0.683044</td>\n",
       "      <td>Star Trek: First Contact (1996)</td>\n",
       "    </tr>\n",
       "    <tr>\n",
       "      <th>9</th>\n",
       "      <td>0.683485</td>\n",
       "      <td>Batman (1989)</td>\n",
       "    </tr>\n",
       "    <tr>\n",
       "      <th>10</th>\n",
       "      <td>0.687628</td>\n",
       "      <td>Back to the Future (1985)</td>\n",
       "    </tr>\n",
       "    <tr>\n",
       "      <th>11</th>\n",
       "      <td>0.721431</td>\n",
       "      <td>Hunt for Red October, The (1990)</td>\n",
       "    </tr>\n",
       "    <tr>\n",
       "      <th>12</th>\n",
       "      <td>0.735186</td>\n",
       "      <td>Saving Private Ryan (1998)</td>\n",
       "    </tr>\n",
       "    <tr>\n",
       "      <th>13</th>\n",
       "      <td>0.736631</td>\n",
       "      <td>Beverly Hills Cop (1984)</td>\n",
       "    </tr>\n",
       "    <tr>\n",
       "      <th>14</th>\n",
       "      <td>0.765271</td>\n",
       "      <td>Goldfinger (1964)</td>\n",
       "    </tr>\n",
       "    <tr>\n",
       "      <th>15</th>\n",
       "      <td>0.767662</td>\n",
       "      <td>Iron Man (2008)</td>\n",
       "    </tr>\n",
       "    <tr>\n",
       "      <th>16</th>\n",
       "      <td>0.768359</td>\n",
       "      <td>Last Samurai, The (2003)</td>\n",
       "    </tr>\n",
       "    <tr>\n",
       "      <th>17</th>\n",
       "      <td>0.769520</td>\n",
       "      <td>X-Men (2000)</td>\n",
       "    </tr>\n",
       "    <tr>\n",
       "      <th>18</th>\n",
       "      <td>0.773357</td>\n",
       "      <td>Avatar (2009)</td>\n",
       "    </tr>\n",
       "    <tr>\n",
       "      <th>19</th>\n",
       "      <td>0.777024</td>\n",
       "      <td>That Thing You Do! (1996)</td>\n",
       "    </tr>\n",
       "  </tbody>\n",
       "</table>\n",
       "</div>"
      ],
      "text/plain": [
       "    Star Wars: Episode VI - Return of the Jedi (1983)  \\\n",
       "0                                            0.441927   \n",
       "1                                            0.455841   \n",
       "2                                            0.478243   \n",
       "3                                            0.562239   \n",
       "4                                            0.587874   \n",
       "5                                            0.592627   \n",
       "6                                            0.639995   \n",
       "7                                            0.681027   \n",
       "8                                            0.683044   \n",
       "9                                            0.683485   \n",
       "10                                           0.687628   \n",
       "11                                           0.721431   \n",
       "12                                           0.735186   \n",
       "13                                           0.736631   \n",
       "14                                           0.765271   \n",
       "15                                           0.767662   \n",
       "16                                           0.768359   \n",
       "17                                           0.769520   \n",
       "18                                           0.773357   \n",
       "19                                           0.777024   \n",
       "\n",
       "                                                title  \n",
       "0   Star Wars: Episode V - The Empire Strikes Back...  \n",
       "1           Star Wars: Episode IV - A New Hope (1977)  \n",
       "2                             Dark Knight, The (2008)  \n",
       "3                      Godfather: Part II, The (1974)  \n",
       "4                                    Gladiator (2000)  \n",
       "5                                  Matrix, The (1999)  \n",
       "6                            Untouchables, The (1987)  \n",
       "7   Raiders of the Lost Ark (Indiana Jones and the...  \n",
       "8                     Star Trek: First Contact (1996)  \n",
       "9                                       Batman (1989)  \n",
       "10                          Back to the Future (1985)  \n",
       "11                   Hunt for Red October, The (1990)  \n",
       "12                         Saving Private Ryan (1998)  \n",
       "13                           Beverly Hills Cop (1984)  \n",
       "14                                  Goldfinger (1964)  \n",
       "15                                    Iron Man (2008)  \n",
       "16                           Last Samurai, The (2003)  \n",
       "17                                       X-Men (2000)  \n",
       "18                                      Avatar (2009)  \n",
       "19                          That Thing You Do! (1996)  "
      ]
     },
     "execution_count": 43,
     "metadata": {},
     "output_type": "execute_result"
    }
   ],
   "source": [
    "movie_dist = np.zeros((V.shape[1],1))\n",
    "for i in range(V.shape[1]):\n",
    "    movie_dist[i,0] = np.linalg.norm( V_final[:,selectmovieId] - V_final[:,i])\n",
    "movie_dist_df = pd.DataFrame(movie_dist, columns= [selectmovie_act])\n",
    "#movie_dist_df.head()\n",
    "temp = movie_dist_df.sort_values(by= selectmovie_act).iloc[1:21,:].loc[:,selectmovie_act].reset_index()\n",
    "temp = temp.merge(movies[['new_movieId','title']], how='left', left_on='index', right_on='new_movieId')\n",
    "temp[[selectmovie_act,'title']]"
   ]
  },
  {
   "cell_type": "markdown",
   "metadata": {
    "collapsed": true
   },
   "source": [
    "The recommendations generated by the matrix factorization look good - as expected, the other Star Wars movies are recommended. We would feel comfortable putting the matrix factorization model in front of customers. We would want to filter the recommendations for the films that are actually in the Netflix catalog.\n",
    "\n",
    "Some potential things to watch out for:\n",
    "* Many films have few ratings. In fact the median number of ratings for each movie is 2. Given that low number, many of our films will not have enough ratings to get an accurate prediction.\n",
    "* Scaling: We know that an increase in the number of ratings from already existing users to already existing movies will not drastically change the runtime of the algorithm. However, if we increase both users and movies, we don't know whether the runtime of algorithm will get worse or not."
   ]
  }
 ],
 "metadata": {
  "kernelspec": {
   "display_name": "Python 3",
   "language": "python",
   "name": "python3"
  },
  "language_info": {
   "codemirror_mode": {
    "name": "ipython",
    "version": 3
   },
   "file_extension": ".py",
   "mimetype": "text/x-python",
   "name": "python",
   "nbconvert_exporter": "python",
   "pygments_lexer": "ipython3",
   "version": "3.6.3"
  }
 },
 "nbformat": 4,
 "nbformat_minor": 2
}
